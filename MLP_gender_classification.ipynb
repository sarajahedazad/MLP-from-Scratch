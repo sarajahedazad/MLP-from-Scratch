{
 "cells": [
  {
   "cell_type": "code",
   "execution_count": null,
   "metadata": {
    "colab": {
     "base_uri": "https://localhost:8080/"
    },
    "id": "tktfX12a24LX",
    "outputId": "9a258fa7-6dd7-4d55-d965-2494cd33b878"
   },
   "outputs": [
    {
     "name": "stdout",
     "output_type": "stream",
     "text": [
      "Drive already mounted at /content/drive; to attempt to forcibly remount, call drive.mount(\"/content/drive\", force_remount=True).\n"
     ]
    }
   ],
   "source": [
    "from google.colab import drive\n",
    "drive.mount('/content/drive')"
   ]
  },
  {
   "cell_type": "code",
   "execution_count": null,
   "metadata": {
    "id": "5NoLdrCk3BeH"
   },
   "outputs": [],
   "source": [
    "from os import listdir\n",
    "from matplotlib import image\n",
    "import matplotlib.pyplot as plt\n",
    "import numpy as np\n",
    "import random\n",
    "from sklearn.decomposition import PCA\n",
    "from PIL import Image\n",
    "from sklearn.model_selection import train_test_split\n",
    "from math import floor\n",
    "from sklearn.preprocessing import StandardScaler"
   ]
  },
  {
   "cell_type": "code",
   "execution_count": null,
   "metadata": {
    "id": "9RZBGPv5WXEr"
   },
   "outputs": [],
   "source": [
    "!unzip -uq \"/content/drive/My Drive/DL_HW1/UTKFace.zip\" -d \"/content\" #unzipping zipped file of pictures on \\content"
   ]
  },
  {
   "cell_type": "code",
   "execution_count": null,
   "metadata": {
    "colab": {
     "base_uri": "https://localhost:8080/"
    },
    "id": "tiaJsbK73MP9",
    "outputId": "a5c4d4ff-fd96-4601-f064-3e645df13403"
   },
   "outputs": [
    {
     "name": "stdout",
     "output_type": "stream",
     "text": [
      "Man len is 12392\n",
      "Woman len is 11316\n"
     ]
    }
   ],
   "source": [
    "#This line below, return names of items in a directory as a list\n",
    "images_names=listdir('/content/UTKFace')\n",
    "\n",
    "#labels\n",
    "\n",
    "name_sections=[images_names[i].split('_') for i in range(np.shape(images_names)[0])]\n",
    "Gender=[int(name_sections[i][1]) for i in range(np.shape(images_names)[0])]\n",
    "\n",
    "Man=[]\n",
    "Woman=[]\n",
    "\n",
    "for i in range(len(Gender)):\n",
    "  if Gender[i]==0:\n",
    "    Man.append(i)\n",
    "  else:\n",
    "    Woman.append(i)\n",
    "\n",
    "print('Man len is',len(Man))\n",
    "print('Woman len is',len(Woman))\n",
    "\n",
    "def Gender_Label(gender,n):\n",
    "  lst=[]\n",
    "  if gender=='Man':\n",
    "    for i in range(n):\n",
    "      lst.append(0)\n",
    "  else:\n",
    "    for i in range(n):\n",
    "      lst.append(1)\n",
    "  return lst\n",
    "\n",
    "\n",
    "#picking 5000 pictures, 2500 men and 2500 women\n",
    "n_sam_man=2500\n",
    "n_sam_woman=2500\n",
    "\n",
    "Man_sam=random.sample(Man, n_sam_man)\n",
    "Man_label=Gender_Label('Man',n_sam_man)\n",
    "\n",
    "Woman_sam=random.sample(Woman, n_sam_woman)\n",
    "Woman_label=Gender_Label('Woman',n_sam_woman)\n",
    "\n",
    "\n",
    "Man_sam.extend(Woman_sam)\n",
    "Gender_sam=Man_sam\n",
    "Man_label.extend(Woman_label)\n",
    "Gender_label=Man_label\n",
    "\n",
    "zipped=list(zip(Gender_sam,Gender_label))\n",
    "\n",
    "random.shuffle(zipped)\n",
    "random.shuffle(zipped)\n",
    "random.shuffle(zipped)\n",
    "\n",
    "unzipped=list(zip(*zipped))\n",
    "\n",
    "Gender_sam=list(unzipped[0])\n",
    "Gender_label=list(unzipped[1])\n"
   ]
  },
  {
   "cell_type": "code",
   "execution_count": null,
   "metadata": {
    "colab": {
     "base_uri": "https://localhost:8080/"
    },
    "id": "21s4Me5zYCaP",
    "outputId": "27b49396-1d1f-44b9-9b68-2e5f9aab6aac"
   },
   "outputs": [
    {
     "name": "stdout",
     "output_type": "stream",
     "text": [
      "(5000, 120000) float16\n"
     ]
    }
   ],
   "source": [
    "#loading data\n",
    "\n",
    "loaded_images = []\n",
    "for i in Gender_sam:\n",
    "  img=image.imread('/content/UTKFace/' + images_names[i])\n",
    "  loaded_images.append(img)\n",
    "\n",
    "loaded_images=np.asarray(loaded_images,dtype='float16')\n",
    "\n",
    "loaded_images=loaded_images.reshape(np.shape(loaded_images)[0],3*200*200)\n",
    "\n",
    "Gender_label=np.asarray(Gender_label)\n",
    "\n",
    "print(np.shape(loaded_images),loaded_images.dtype)"
   ]
  },
  {
   "cell_type": "code",
   "execution_count": null,
   "metadata": {
    "colab": {
     "base_uri": "https://localhost:8080/"
    },
    "id": "z-Wj8DKg3XLp",
    "outputId": "f206b42c-8c43-499b-ecd5-0dcd3ac4e3c6"
   },
   "outputs": [
    {
     "name": "stdout",
     "output_type": "stream",
     "text": [
      "(3600, 128) (1000, 128) (400, 128) (3600, 1) (1000, 1) (400, 1)\n"
     ]
    }
   ],
   "source": [
    "#Test,Train,validation data splitting +standardization+PCA\n",
    "#Standardization is applied before and after applying PCA\n",
    "X, X_test_, Y, Y_test = train_test_split(loaded_images, Gender_label, test_size=0.2, random_state=1)\n",
    "\n",
    "loaded_images=[]\n",
    "\n",
    "scaler=StandardScaler().fit(X)\n",
    "X=scaler.transform(X)\n",
    "X_test_=scaler.transform(X_test_)\n",
    "\n",
    "pca=PCA(n_components=128)\n",
    "\n",
    "#because RAM would be filled because it considered PCA output as 'float64', there was a need to trick python!\n",
    "XX=np.zeros((np.shape(X)[0],128),dtype='float16')\n",
    "XX=pca.fit(X).transform(X)\n",
    "X=[]\n",
    "\n",
    "X_test=np.zeros((np.shape(X_test_)[0],128),dtype='float16')\n",
    "X_test=pca.transform(X_test_)\n",
    "X_test_=[]\n",
    "\n",
    "X_train, X_val, Y_train, Y_val = train_test_split(XX, Y, test_size=0.1, random_state=1)\n",
    "\n",
    "XX=[]\n",
    "Y=[]\n",
    "\n",
    "Y_train=Y_train.reshape(Y_train.shape[0],1)\n",
    "Y_test=Y_test.reshape(Y_test.shape[0],1)\n",
    "Y_val=Y_val.reshape(Y_val.shape[0],1)\n",
    "\n",
    "scaler=StandardScaler().fit(X_train)\n",
    "X_train=scaler.transform(X_train)\n",
    "X_val=scaler.transform(X_val)\n",
    "X_test=scaler.transform(X_test)\n",
    "\n",
    "\n",
    "print(X_train.shape, X_test.shape, X_val.shape , Y_train.shape, Y_test.shape, Y_val.shape)"
   ]
  },
  {
   "cell_type": "code",
   "execution_count": null,
   "metadata": {
    "id": "9JqwDvLf3XMs"
   },
   "outputs": [],
   "source": [
    "#Only for creating mini batches, I used a pre-written function code from the internet and adjusted it\n",
    "#https://www.geeksforgeeks.org/ml-mini-batch-gradient-descent-with-python/\n",
    "\n",
    "def create_mini_batches(X, y, batch_size): \n",
    "    mini_batches = [] \n",
    "    data = np.hstack((X, y)) \n",
    "    np.random.shuffle(data) \n",
    "    n_minibatches = data.shape[0] // batch_size \n",
    "\n",
    "  \n",
    "    for i in range(n_minibatches + 1): \n",
    "        mini_batch = data[i * batch_size:(i + 1)*batch_size, :] \n",
    "        X_mini = mini_batch[:, :-1] \n",
    "        Y_mini = mini_batch[:, -1].reshape((-1, 1)) \n",
    "        mini_batches.append((X_mini, Y_mini)) \n",
    " \n",
    "    return mini_batches "
   ]
  },
  {
   "cell_type": "code",
   "execution_count": null,
   "metadata": {
    "id": "xo8RWRQE3XQK"
   },
   "outputs": [],
   "source": [
    "#Initialization for weights\n",
    "#it either uses zeros initialization or He initialization\n",
    "#details about He method is writen in the report\n",
    "def initialization(neurons_lst):\n",
    "  W={}\n",
    "  b={}\n",
    "  last_l=len(neurons_lst)-1\n",
    "  for i in range(1,last_l):\n",
    "    W[i]=np.random.randn(neurons_lst[i],neurons_lst[i-1])*np.sqrt(2/neurons_lst[i-1])\n",
    "    #W[i]=np.random.randn(neurons_lst[i],neurons_lst[i-1])\n",
    "    b[i]=np.random.randn(neurons_lst[i],1)*np.sqrt(2/neurons_lst[i-1])\n",
    "    #b[i]=np.random.randn(neurons_lst[i],1)\n",
    "  W[last_l]=np.random.randn(neurons_lst[last_l],neurons_lst[last_l-1])*np.sqrt(1/neurons_lst[last_l-1])\n",
    "  b[last_l]=np.random.randn(neurons_lst[last_l],1)*np.sqrt(1/neurons_lst[last_l-1])\n",
    "  return W,b"
   ]
  },
  {
   "cell_type": "code",
   "execution_count": null,
   "metadata": {
    "id": "NPSdOphF3XRT"
   },
   "outputs": [],
   "source": [
    "#Activation functions and the derivatives\n",
    "def Leaky_Relu(Z):\n",
    "  return np.maximum(0.05*Z,Z)\n",
    "\n",
    "def d_Leaky_Relu(Z):\n",
    "  d_g_Z=0.05*np.ones(Z.shape)\n",
    "  d_g_Z[Z>=0]=1\n",
    "  return d_g_Z\n",
    "\n",
    "def Sigmoid(Z):\n",
    "  return 1/(1+np.exp(-Z))\n",
    "\n",
    "def d_Sigmoid(A):\n",
    "  return A*(1-A)"
   ]
  },
  {
   "cell_type": "code",
   "execution_count": null,
   "metadata": {
    "id": "-xg_KYkh3XVm"
   },
   "outputs": [],
   "source": [
    "#forward propagation\n",
    "def forward(X,W,b,neurons_lst):\n",
    "  Z={}\n",
    "  A={}\n",
    "  A[0]=np.copy(X.T)\n",
    "  output_l=len(neurons_lst)-1\n",
    "  for i in range(1,output_l):\n",
    "    Z[i]=W[i].dot(A[i-1])+b[i]\n",
    "    A[i]=Leaky_Relu(Z[i])\n",
    "\n",
    "  Z[output_l]=W[output_l].dot(A[output_l-1])+b[output_l]\n",
    "  A[output_l]=Sigmoid(Z[output_l])\n",
    "  Y=np.copy(A[output_l])\n",
    "  return Z,A,Y"
   ]
  },
  {
   "cell_type": "code",
   "execution_count": null,
   "metadata": {
    "id": "0hyU4k5qacJ2"
   },
   "outputs": [],
   "source": [
    "#backward propagation\n",
    "def backward(X,Z,A,W,Y,target,neurons_lst):\n",
    "\n",
    "  layer_out=len(neurons_lst)-1\n",
    "\n",
    "  m=(int(Y.size))/5\n",
    "\n",
    "  dZ={}\n",
    "  dW={}\n",
    "  db={}\n",
    "\n",
    "  dZ[layer_out]=Y-target\n",
    "  dW[layer_out]=(1/m)*dZ[layer_out].dot(A[layer_out-1].T)\n",
    "  db[layer_out]=(1/m)*np.sum(dZ[layer_out],axis=1,keepdims=True)\n",
    "\n",
    "\n",
    "  for i in reversed(range(1,layer_out)):\n",
    "    dZ[i]=W[i+1].T.dot(dZ[i+1])*d_Leaky_Relu(Z[i])\n",
    "    dW[i]=(1/m)*dZ[i].dot(A[i-1].T)\n",
    "    db[i]=(1/m)*np.sum(dZ[i],axis=1,keepdims=True)\n",
    "\n",
    "  return dW,db"
   ]
  },
  {
   "cell_type": "code",
   "execution_count": null,
   "metadata": {
    "id": "VKdcKbjScCEz"
   },
   "outputs": [],
   "source": [
    "#leraning rate\n",
    "#it either uses constant steps for decreasing lr or uses step decay\n",
    "def learning_rate(alpha0,epoch,epoch_batch=10,rate=0.5,const_step=0.01,constant=False):\n",
    "  if constant==False:\n",
    "    lr=alpha0*(rate**floor(epoch / epoch_batch))\n",
    "    return lr\n",
    "  else:\n",
    "    return alpha0-const_step*alpha0*floor(epoch / epoch_batch)"
   ]
  },
  {
   "cell_type": "code",
   "execution_count": null,
   "metadata": {
    "id": "gsZLqdRWcCOP"
   },
   "outputs": [],
   "source": [
    "#initializing V for momemtum in weight updating\n",
    "def init_v(W,b):\n",
    "  vw={}\n",
    "  vb={}\n",
    "  for i in range(1,len(W)+1):\n",
    "    vw[i]=np.zeros(np.shape(W[i]))\n",
    "    vb[i]=np.zeros(np.shape(b[i]))\n",
    "  return vw,vb"
   ]
  },
  {
   "cell_type": "code",
   "execution_count": null,
   "metadata": {
    "id": "hf-u-uERcCS4"
   },
   "outputs": [],
   "source": [
    "#updating Weights and biases\n",
    "#Requlation can be applied or not\n",
    "def update(W,b,dW,db,vw,vb,alpha,neurons_lst,momentum=0.9,regulation=True,Lambda=3):\n",
    "  if regulation==True:\n",
    "    Lambda=Lambda\n",
    "  else:\n",
    "    Lambda=0\n",
    "  for i in range(1,len(neurons_lst)):\n",
    "    vw[i]=momentum*vw[i]+alpha*dW[i]\n",
    "    W[i]=W[i]-vw[i]-alpha*Lambda*W[i]\n",
    "    vb[i]=momentum*vb[i]+alpha*db[i]\n",
    "    b[i]=b[i]-vb[i]\n",
    "  return W,b,vw,vb"
   ]
  },
  {
   "cell_type": "code",
   "execution_count": null,
   "metadata": {
    "id": "HYn_7IuucCUN"
   },
   "outputs": [],
   "source": [
    "#Cost function\n",
    "def cost(Y,target):\n",
    "  m=int(Y.size)\n",
    "  l=-target*np.log(Y)-(1-target)*np.log(1-Y)\n",
    "  return np.sum(l)/m"
   ]
  },
  {
   "cell_type": "code",
   "execution_count": null,
   "metadata": {
    "id": "AeszNPn-_nqh"
   },
   "outputs": [],
   "source": [
    "#Accuracy: how good can this MLP predict?\n",
    "def acc_prediction(Y,target):\n",
    "  pre=Y>0.49999 #Output 0.5 and above will be considered as label 1\n",
    "  tar=target==1\n",
    "  acc=np.sum(pre==tar)/((tar.size))\n",
    "  return acc"
   ]
  },
  {
   "cell_type": "code",
   "execution_count": null,
   "metadata": {
    "colab": {
     "base_uri": "https://localhost:8080/",
     "height": 589
    },
    "id": "DPYHCJWBcCYl",
    "outputId": "ebb55b34-1faa-4d38-dd5d-8d2f572ee071"
   },
   "outputs": [
    {
     "data": {
      "text/plain": [
       "<matplotlib.legend.Legend at 0x7fb193796390>"
      ]
     },
     "execution_count": 24,
     "metadata": {
      "tags": []
     },
     "output_type": "execute_result"
    },
    {
     "data": {
      "image/png": "[encoded data removed]",
      "text/plain": [
       "<Figure size 432x288 with 1 Axes>"
      ]
     },
     "metadata": {
      "needs_background": "light",
      "tags": []
     },
     "output_type": "display_data"
    },
    {
     "data": {
      "image/png": "[encoded data removed]",
      "text/plain": [
       "<Figure size 432x288 with 1 Axes>"
      ]
     },
     "metadata": {
      "needs_background": "light",
      "tags": []
     },
     "output_type": "display_data"
    }
   ],
   "source": [
    "neurons_lst=[128,50,30,1]\n",
    "batch_size=128\n",
    "epochs=40\n",
    "\n",
    "(W,b)=initialization(neurons_lst)\n",
    "\n",
    "train_cost=[]\n",
    "val_cost=[]\n",
    "train_acc=[]\n",
    "val_acc=[]\n",
    "\n",
    "(vw,vb)=init_v(W,b)\n",
    "\n",
    "for i in range(epochs):\n",
    "  cost_valu=0\n",
    "  mini_batches=create_mini_batches(X_train,Y_train,batch_size)\n",
    "  alpha=learning_rate(0.001,i+1,epoch_batch=10,const_step=0.1,constant=True) #constant step for decreasing lr : 0.001*0.1\n",
    "  \n",
    "\n",
    "\n",
    "  (Z,A,Y)=forward(X_train,W,b,neurons_lst)\n",
    "  train_cost.append(cost(Y,Y_train.T))\n",
    "  train_acc.append(acc_prediction(Y,Y_train.T))\n",
    "\n",
    "  (Z_val,A_val,Y_v)=forward(X_val,W,b,neurons_lst)\n",
    "  val_cost.append(cost(Y_v,Y_val.T))\n",
    "  val_acc.append(acc_prediction(Y_v,Y_val.T))\n",
    "\n",
    "\n",
    "\n",
    "  for mini_batch in mini_batches:\n",
    "    data_train=np.copy(mini_batch[0])\n",
    "    train_label=np.copy(mini_batch[1])\n",
    "    M=np.shape(train_label)[0]\n",
    "    train_label=train_label.reshape(1,M)\n",
    "\n",
    "    (Z,A,Y)=forward(data_train,W,b,neurons_lst)\n",
    "    (dW,db)=backward(data_train,Z,A,W,Y,train_label,neurons_lst)\n",
    "\n",
    "    (W,b,vw,vb)=update(W,b,dW,db,vw,vb,alpha,neurons_lst,regulation=True)\n",
    "\n",
    "\n",
    "plt.figure()\n",
    "nn1=list(range(1,len(train_cost)+1))\n",
    "plt.plot(nn1,train_cost)\n",
    "nn2=list(range(1,len(val_cost)+1))\n",
    "plt.plot(nn2,val_cost)\n",
    "plt.title('cost vs epochs')\n",
    "plt.xlabel('epochs')\n",
    "plt.ylabel('cost')\n",
    "plt.legend(['train data','validation data'])\n",
    "\n",
    "plt.figure()\n",
    "nn3=list(range(1,len(train_acc)+1))\n",
    "plt.plot(nn3,train_acc)\n",
    "nn4=list(range(1,len(val_acc)+1))\n",
    "plt.plot(nn4,val_acc)\n",
    "plt.title('acc vs epochs')\n",
    "plt.xlabel('epochs')\n",
    "plt.ylabel('acc')\n",
    "plt.legend(['train data','validation data'])"
   ]
  },
  {
   "cell_type": "code",
   "execution_count": null,
   "metadata": {
    "colab": {
     "base_uri": "https://localhost:8080/"
    },
    "id": "-4jgWf1Admtj",
    "outputId": "3f2bf14a-7638-4cb7-e0f4-3105865789a3"
   },
   "outputs": [
    {
     "name": "stdout",
     "output_type": "stream",
     "text": [
      "0.844\n"
     ]
    }
   ],
   "source": [
    "#Test accuracy\n",
    "_,_,output_test=forward(X_test,W,b,neurons_lst)\n",
    "\n",
    "print(acc_prediction(output_test,Y_test.T))"
   ]
  }
 ],
 "metadata": {
  "colab": {
   "collapsed_sections": [],
   "name": "DL_HW1_1_part3.ipynb",
   "provenance": []
  },
  "kernelspec": {
   "display_name": "Python 3",
   "language": "python",
   "name": "python3"
  },
  "language_info": {
   "codemirror_mode": {
    "name": "ipython",
    "version": 3
   },
   "file_extension": ".py",
   "mimetype": "text/x-python",
   "name": "python",
   "nbconvert_exporter": "python",
   "pygments_lexer": "ipython3",
   "version": "3.7.3"
  }
 },
 "nbformat": 4,
 "nbformat_minor": 1
}
